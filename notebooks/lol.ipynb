{
 "cells": [
  {
   "cell_type": "code",
   "execution_count": 1,
   "metadata": {
    "ExecuteTime": {
     "end_time": "2019-07-15T21:02:24.302347Z",
     "start_time": "2019-07-15T21:02:23.710319Z"
    }
   },
   "outputs": [],
   "source": [
    "from PIL import Image\n",
    "import numpy as np\n",
    "from data.pix2pix_dataset import Pix2pixDataset\n",
    "from data.image_folder import make_dataset\n",
    "from options.test_options import TestOptions\n",
    "from data.base_dataset import get_params, get_transform"
   ]
  },
  {
   "cell_type": "code",
   "execution_count": 2,
   "metadata": {
    "ExecuteTime": {
     "end_time": "2019-07-15T21:02:24.307317Z",
     "start_time": "2019-07-15T21:02:24.304177Z"
    }
   },
   "outputs": [],
   "source": [
    "a = np.ones((256, 256))"
   ]
  },
  {
   "cell_type": "code",
   "execution_count": 4,
   "metadata": {
    "ExecuteTime": {
     "end_time": "2019-07-15T21:02:42.946213Z",
     "start_time": "2019-07-15T21:02:42.943356Z"
    }
   },
   "outputs": [],
   "source": [
    "a[:2] = a[:2] * 50"
   ]
  },
  {
   "cell_type": "code",
   "execution_count": 12,
   "metadata": {
    "ExecuteTime": {
     "end_time": "2019-07-15T21:05:54.827150Z",
     "start_time": "2019-07-15T21:05:54.822360Z"
    }
   },
   "outputs": [],
   "source": [
    "for i, val in enumerate(np.unique(a)):\n",
    "    a[a==val] = i\n",
    "#     print(np.where(a == val, a, i))"
   ]
  },
  {
   "cell_type": "code",
   "execution_count": 15,
   "metadata": {
    "ExecuteTime": {
     "end_time": "2019-07-15T21:06:52.649529Z",
     "start_time": "2019-07-15T21:06:52.644605Z"
    }
   },
   "outputs": [
    {
     "data": {
      "text/plain": [
       "array([[1., 1., 1., ..., 1., 1., 1.],\n",
       "       [1., 1., 1., ..., 1., 1., 1.],\n",
       "       [0., 0., 0., ..., 0., 0., 0.],\n",
       "       ...,\n",
       "       [0., 0., 0., ..., 0., 0., 0.],\n",
       "       [0., 0., 0., ..., 0., 0., 0.],\n",
       "       [0., 0., 0., ..., 0., 0., 0.]])"
      ]
     },
     "execution_count": 15,
     "metadata": {},
     "output_type": "execute_result"
    }
   ],
   "source": [
    "np.copy(a)"
   ]
  },
  {
   "cell_type": "code",
   "execution_count": 13,
   "metadata": {
    "ExecuteTime": {
     "end_time": "2019-07-15T21:05:57.139594Z",
     "start_time": "2019-07-15T21:05:57.134533Z"
    }
   },
   "outputs": [
    {
     "data": {
      "text/plain": [
       "array([[1., 1., 1., ..., 1., 1., 1.],\n",
       "       [1., 1., 1., ..., 1., 1., 1.],\n",
       "       [0., 0., 0., ..., 0., 0., 0.],\n",
       "       ...,\n",
       "       [0., 0., 0., ..., 0., 0., 0.],\n",
       "       [0., 0., 0., ..., 0., 0., 0.],\n",
       "       [0., 0., 0., ..., 0., 0., 0.]])"
      ]
     },
     "execution_count": 13,
     "metadata": {},
     "output_type": "execute_result"
    }
   ],
   "source": [
    "a"
   ]
  },
  {
   "cell_type": "code",
   "execution_count": 24,
   "metadata": {
    "ExecuteTime": {
     "end_time": "2019-07-12T19:40:55.139981Z",
     "start_time": "2019-07-12T19:40:55.136340Z"
    }
   },
   "outputs": [],
   "source": [
    "opts = TestOptions()\n",
    "opts.preprocess_mode = 'scale_width_and_crop'\n",
    "opts.load_size = 1024\n",
    "opts.crop_size = 512\n",
    "opts.isTrain = False\n",
    "opts.label_nc = 182"
   ]
  },
  {
   "cell_type": "code",
   "execution_count": 25,
   "metadata": {
    "ExecuteTime": {
     "end_time": "2019-07-12T19:40:55.465022Z",
     "start_time": "2019-07-12T19:40:55.454245Z"
    }
   },
   "outputs": [],
   "source": [
    "label_path = 'datasets/coco_stuff/train_label/000000017914.png'\n",
    "\n",
    "label = Image.open(label_path)\n",
    "params = get_params(opts, label.size)\n",
    "transform_label = get_transform(opts, params, method=Image.NEAREST, normalize=False)\n",
    "label_tensor = transform_label(label) * 255.0\n",
    "label_tensor[label_tensor == 255] = opts.label_nc  # 'unknown' is opt.label_nc"
   ]
  },
  {
   "cell_type": "code",
   "execution_count": 26,
   "metadata": {
    "ExecuteTime": {
     "end_time": "2019-07-12T19:40:56.804739Z",
     "start_time": "2019-07-12T19:40:56.800568Z"
    }
   },
   "outputs": [
    {
     "data": {
      "text/plain": [
       "torch.Size([1, 512, 512])"
      ]
     },
     "execution_count": 26,
     "metadata": {},
     "output_type": "execute_result"
    }
   ],
   "source": [
    "label_tensor.shape"
   ]
  },
  {
   "cell_type": "code",
   "execution_count": 27,
   "metadata": {
    "ExecuteTime": {
     "end_time": "2019-07-12T19:40:57.211560Z",
     "start_time": "2019-07-12T19:40:57.206147Z"
    }
   },
   "outputs": [
    {
     "data": {
      "text/plain": [
       "tensor([[[182., 182., 182.,  ..., 182., 182., 182.],\n",
       "         [182., 182., 182.,  ..., 182., 182., 182.],\n",
       "         [182., 182., 182.,  ..., 182., 182., 182.],\n",
       "         ...,\n",
       "         [  0.,   0.,   0.,  ...,  16.,  16.,  16.],\n",
       "         [  0.,   0.,   0.,  ...,  16.,  16.,  16.],\n",
       "         [  0.,   0.,   0.,  ...,  16.,  16.,  16.]]])"
      ]
     },
     "execution_count": 27,
     "metadata": {},
     "output_type": "execute_result"
    }
   ],
   "source": [
    "label_tensor"
   ]
  },
  {
   "cell_type": "code",
   "execution_count": 33,
   "metadata": {
    "ExecuteTime": {
     "end_time": "2019-07-12T20:00:48.866262Z",
     "start_time": "2019-07-12T20:00:48.861889Z"
    }
   },
   "outputs": [
    {
     "data": {
      "text/plain": [
       "(375, 500)"
      ]
     },
     "execution_count": 33,
     "metadata": {},
     "output_type": "execute_result"
    }
   ],
   "source": [
    "np.asarray(label).shape"
   ]
  },
  {
   "cell_type": "code",
   "execution_count": 38,
   "metadata": {
    "ExecuteTime": {
     "end_time": "2019-07-12T20:07:54.152807Z",
     "start_time": "2019-07-12T20:07:54.147889Z"
    }
   },
   "outputs": [
    {
     "data": {
      "text/plain": [
       "torch.Size([1, 1, 512, 512])"
      ]
     },
     "execution_count": 38,
     "metadata": {},
     "output_type": "execute_result"
    }
   ],
   "source": [
    "label_tensor.reshape((1, 1, 512, 512)).shape"
   ]
  },
  {
   "cell_type": "code",
   "execution_count": null,
   "metadata": {},
   "outputs": [],
   "source": []
  }
 ],
 "metadata": {
  "kernelspec": {
   "display_name": "Python 3",
   "language": "python",
   "name": "python3"
  },
  "language_info": {
   "codemirror_mode": {
    "name": "ipython",
    "version": 3
   },
   "file_extension": ".py",
   "mimetype": "text/x-python",
   "name": "python",
   "nbconvert_exporter": "python",
   "pygments_lexer": "ipython3",
   "version": "3.7.3"
  }
 },
 "nbformat": 4,
 "nbformat_minor": 2
}
